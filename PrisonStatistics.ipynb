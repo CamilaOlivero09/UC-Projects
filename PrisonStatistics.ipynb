{
 "cells": [
  {
   "cell_type": "code",
   "execution_count": 11,
   "id": "c13f56d0-dfcf-4c5e-869b-ba5a0fd9db34",
   "metadata": {},
   "outputs": [
    {
     "name": "stdout",
     "output_type": "stream",
     "text": [
      "https://www.corrections.govt.nz/__data/assets/excel_doc/0004/49819/Quarterly_Community_Statistics_-_March_2024.xlsx\n",
      "Quarterly_Community_Statistics_-_March_2024.xlsx\n",
      "/home/col35/DATA472 - Individual Project/Files\n",
      "/home/col35/DATA472 - Individual Project/Files/Quarterly_Community_Statistics_-_March_2024.xlsx\n",
      "File downloaded successfully.\n"
     ]
    }
   ],
   "source": [
    "!pip install xlrd>=2.0.1\n",
    "\n",
    "import requests\n",
    "from bs4 import BeautifulSoup\n",
    "import os\n",
    "import pandas as pd\n",
    "\n",
    "def get_first_link():\n",
    "    #try:\n",
    "        # URL of the webpage\n",
    "        url = \"https://www.corrections.govt.nz/resources/statistics/community_sentences_and_orders\"\n",
    "        \n",
    "        # Sending a GET request to the webpage and parsing the HTML content\n",
    "        response = requests.get(url, allow_redirects=True)\n",
    "        soup = BeautifulSoup(response.content, \"html.parser\")\n",
    "        \n",
    "        # Finding the div with the specified id\n",
    "        target_div = soup.find(\"div\", id=\"new_div_825292_21256\")\n",
    "        \n",
    "        # Finding the first href inside the specified div\n",
    "        first_href = target_div.find(\"a\", href=True)\n",
    "        first_link = target_div.find(\"a\")[\"href\"]\n",
    "\n",
    "        response = requests.get(first_link)\n",
    "        soup = BeautifulSoup(response.content, \"html.parser\")\n",
    "        div = soup.find(\"div\", id = lambda x: x and 'component' in x)\n",
    "        \n",
    "\n",
    "        # Downloading the file\n",
    "        download_link = div.find(\"a\")[\"href\"]\n",
    "        response = requests.get(download_link)\n",
    "        print(download_link)\n",
    "\n",
    "        # Extracting filename from the download URL\n",
    "        filename = os.path.basename(download_link)\n",
    "        print(filename)\n",
    "\n",
    "        # Specify the directory to save the files\n",
    "        directory = \"Files\"\n",
    "        cwd_directory = os.getcwd()\n",
    "        directory = os.path.join(cwd_directory,directory)\n",
    "        print(directory) \n",
    "\n",
    "        # Constructing the file path\n",
    "        filepath = os.path.join(directory, filename)\n",
    "        print(filepath) \n",
    "\n",
    "\n",
    "        try:\n",
    "            with open(filepath, 'wb') as f:\n",
    "                f.write(response.content)\n",
    "                print(\"File downloaded successfully.\")\n",
    "        \n",
    "        except FileNotFoundError:\n",
    "            print(\"File not found. Please check the filepath:\", filepath)\n",
    "\n",
    "        #except requests.exceptions.RequestException as e:\n",
    "        except Exception as e:\n",
    "            print(\"Error:\", e)\n",
    "        \n",
    "\n",
    "# Calling the function to execute the defined steps\n",
    "get_first_link()\n"
   ]
  },
  {
   "cell_type": "code",
   "execution_count": null,
   "id": "07ae7a58-9fe1-4e60-b337-31224d3c6d93",
   "metadata": {},
   "outputs": [],
   "source": []
  }
 ],
 "metadata": {
  "kernelspec": {
   "display_name": "Python 3 (ipykernel)",
   "language": "python",
   "name": "python3"
  },
  "language_info": {
   "codemirror_mode": {
    "name": "ipython",
    "version": 3
   },
   "file_extension": ".py",
   "mimetype": "text/x-python",
   "name": "python",
   "nbconvert_exporter": "python",
   "pygments_lexer": "ipython3",
   "version": "3.8.18"
  }
 },
 "nbformat": 4,
 "nbformat_minor": 5
}
